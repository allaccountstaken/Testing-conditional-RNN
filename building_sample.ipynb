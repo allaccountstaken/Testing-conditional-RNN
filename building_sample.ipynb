{
 "cells": [
  {
   "cell_type": "code",
   "execution_count": null,
   "metadata": {},
   "outputs": [],
   "source": [
    "#TODO\" on the dataset\n",
    "\n",
    "# Pull cohort from 2009Q1, create EffectiveDate, group by month, compute SAT and define other Time-invariant covariates -- metafeatures\n",
    "\n",
    "# merge on its performance next month, compute extected balance and compare to reported balance, add Market rate adn other time-related covariates\n",
    "\n",
    "# target Status\n",
    "\n",
    "# repeat 12 times till the end of the first year, train, predict Status as multi class classifier and balance as regression\n",
    "\n",
    "# compare to the actual survival, if not impressive repeat for 36 months... or 5 years\n",
    "\n",
    "# Finally, how to deal with time-invariate metadata -- ConditionalRNN\n",
    "\n",
    "# Isolating: https://stackoverflow.com/questions/57324671/combine-time-series-with-time-invariant-data-in-rnn-lstm-using-keras-functional\n",
    "\n",
    "# Theory https://datascience.stackexchange.com/questions/17099/adding-features-to-time-series-model-lstm/17139#17139\n",
    "\n",
    "# Isolating: https://github.com/philipperemy/cond_rnn\n",
    "\n",
    "# Combining: https://stats.stackexchange.com/questions/191176/time-series-with-rnn-how-to-deal-with-attributes-that-span-entire-sequences\n",
    "\n",
    "# Attention based: https://diginole.lib.fsu.edu/islandora/object/fsu:826790/datastream/PDF/view\n",
    "\n",
    " \n",
    "\n",
    "# Final plots:\n",
    "\n",
    "# Finetuning: https://ml-lectures.org/docs/supervised_learning_w_NNs/NN-opt-reg.html"
   ]
  },
  {
   "cell_type": "code",
   "execution_count": 20,
   "metadata": {},
   "outputs": [],
   "source": [
    "import pandas as pd\n",
    "import matplotlib.pyplot as plt\n",
    "from pandas.tseries.offsets import DateOffset"
   ]
  },
  {
   "cell_type": "code",
   "execution_count": 9,
   "metadata": {},
   "outputs": [
    {
     "data": {
      "image/png": "[encoded data removed]",
      "text/plain": [
       "<Figure size 432x288 with 1 Axes>"
      ]
     },
     "metadata": {
      "needs_background": "light"
     },
     "output_type": "display_data"
    }
   ],
   "source": [
    "rate = pd.read_csv('../help/MORTGAGE30US.csv')\n",
    "rate['DATE'] = rate['DATE'].astype('datetime64[ns]')\n",
    "rate['Year'] = rate['DATE'].dt.year\n",
    "rate['Month'] = rate['DATE'].dt.month\n",
    "rate.loc[(rate['Year']>2011) & (rate['Year']<2020)].groupby(['Year', 'Month'])['MORTGAGE30US'].mean().plot(kind='line', rot=90)\n",
    "plt.show()"
   ]
  },
  {
   "cell_type": "code",
   "execution_count": 175,
   "metadata": {},
   "outputs": [],
   "source": [
    "orig_helper = pd.read_csv('../help/orig_read_helper.csv')\n",
    "orig_col_names = orig_helper['ATTRIBUTE NAME'].to_list()"
   ]
  },
  {
   "cell_type": "code",
   "execution_count": 177,
   "metadata": {},
   "outputs": [],
   "source": [
    "df = pd.read_csv('../data/historical_data_2015Q1.txt', sep='|',\n",
    "                 header=None, names=orig_col_names, low_memory=False)"
   ]
  },
  {
   "cell_type": "code",
   "execution_count": 178,
   "metadata": {},
   "outputs": [
    {
     "data": {
      "text/plain": [
       "365234"
      ]
     },
     "execution_count": 178,
     "metadata": {},
     "output_type": "execute_result"
    }
   ],
   "source": [
    "len(df)"
   ]
  },
  {
   "cell_type": "code",
   "execution_count": 180,
   "metadata": {},
   "outputs": [],
   "source": [
    "df = df.loc[df['Original Loan Term']==360].copy()"
   ]
  },
  {
   "cell_type": "code",
   "execution_count": 181,
   "metadata": {},
   "outputs": [],
   "source": [
    "df['MatDate'] = pd.to_datetime(df['Maturity Date'], errors='raise', format='%Y%m')\n",
    "df['OrgDate'] = df['MatDate'] - DateOffset(months=361)"
   ]
  },
  {
   "cell_type": "code",
   "execution_count": 182,
   "metadata": {},
   "outputs": [],
   "source": [
    "df['OrgYear'] = df['OrgDate'].dt.year\n",
    "df['OrgMnth'] = df['OrgDate'].dt.month"
   ]
  },
  {
   "cell_type": "code",
   "execution_count": 200,
   "metadata": {},
   "outputs": [],
   "source": [
    "#cohort_2015q1_df = df.loc[(df['OrgYear']==2015) & (df['OrgMnth']==2)]"
   ]
  },
  {
   "cell_type": "code",
   "execution_count": 201,
   "metadata": {},
   "outputs": [
    {
     "data": {
      "text/plain": [
       "OrgDate\n",
       "2015-01-01    63701\n",
       "Name: Loan Sequence Number, dtype: int64"
      ]
     },
     "execution_count": 201,
     "metadata": {},
     "output_type": "execute_result"
    }
   ],
   "source": [
    "cohort_2015q1_df.groupby('OrgDate')['Loan Sequence Number'].count()"
   ]
  },
  {
   "cell_type": "code",
   "execution_count": 191,
   "metadata": {},
   "outputs": [
    {
     "data": {
      "text/plain": [
       "(63701, 36)"
      ]
     },
     "execution_count": 191,
     "metadata": {},
     "output_type": "execute_result"
    }
   ],
   "source": [
    "cohort_2015q1_df.shape"
   ]
  },
  {
   "cell_type": "code",
   "execution_count": 192,
   "metadata": {},
   "outputs": [],
   "source": [
    "#cohort_2015q1_df.to_csv('../data/cohort_2015q1_df.csv', index=False)"
   ]
  },
  {
   "cell_type": "code",
   "execution_count": 193,
   "metadata": {},
   "outputs": [],
   "source": [
    "perf_helper = pd.read_csv('../help/perf_read_helper.csv')\n",
    "perf_col_names = perf_helper['ATTRIBUTE NAME'].to_list()"
   ]
  },
  {
   "cell_type": "code",
   "execution_count": 194,
   "metadata": {},
   "outputs": [],
   "source": [
    "df = pd.read_csv('../data/historical_data_time_2015Q1.txt', sep='|', \n",
    "                 header=None,names=perf_col_names, low_memory=False)"
   ]
  },
  {
   "cell_type": "code",
   "execution_count": 318,
   "metadata": {},
   "outputs": [
    {
     "name": "stdout",
     "output_type": "stream",
     "text": [
      "['Credit Score', 'First Payment Date', 'First Time Homebuyer Flag', 'Maturity Date', 'Metropolitan Statistical Area (MSA) Or Metropolitan Division', 'Mortgage Insurance Percentage (MI %)', 'Number of Units', 'Occupancy Status', 'Original Combined Loan-to-Value (CLTV)', 'Original Debt-to-Income (DTI) Ratio', 'Original UPB', 'Original Loan-to-Value (LTV)', 'Original Interest Rate', 'Channel', 'Prepayment Penalty Mortgage (PPM) Flag', 'Amortization Type (Formerly Product Type)', 'Property State', 'Property Type', 'Postal Code', 'Loan Sequence Number', 'Loan Purpose', 'Original Loan Term', 'Number of Borrowers', 'Seller Name', 'Servicer Name', 'Super Conforming Flag', 'Pre-HARP Loan Sequence Number', 'Program Indicator', 'HARP Indicator', 'Property Valuation Method', 'Interest Only (I/O) Indicator', 'Mortgage Insurance Cancellation Indicator', 'MatDate', 'OrgDate', 'OrgYear', 'OrgMnth']\n"
     ]
    }
   ],
   "source": [
    "print(list(cohort_2015q1_df.columns))"
   ]
  },
  {
   "cell_type": "code",
   "execution_count": 197,
   "metadata": {},
   "outputs": [],
   "source": [
    "df['RepDate'] = pd.to_datetime(df['Monthly Reporting Period'], errors='raise', format='%Y%m')\n",
    "df['RepYear'] = df['RepDate'].dt.year\n",
    "df['RepMnth'] = df['RepDate'].dt.month"
   ]
  },
  {
   "cell_type": "code",
   "execution_count": 350,
   "metadata": {},
   "outputs": [],
   "source": [
    "merged_df = pd.merge(cohort_2015q1_df[['Credit Score', 'First Payment Date', 'First Time Homebuyer Flag', \n",
    "                                       'Mortgage Insurance Percentage (MI %)', 'Number of Units', \n",
    "                                       'Occupancy Status', 'Original Combined Loan-to-Value (CLTV)', \n",
    "                                       'Original Debt-to-Income (DTI) Ratio', 'Original UPB', \n",
    "                                       'Original Loan-to-Value (LTV)', 'Original Interest Rate', \n",
    "                                       'Channel', 'Amortization Type (Formerly Product Type)', \n",
    "                                       'Property State', 'Property Type', \n",
    "                                       'Loan Sequence Number', 'Loan Purpose', \n",
    "                                       'Original Loan Term', 'Number of Borrowers',\n",
    "                                       'Mortgage Insurance Cancellation Indicator', \n",
    "                                       'MatDate', 'OrgDate', 'OrgYear', 'OrgMnth']], \n",
    "                     df[['Loan Sequence Number', \n",
    "                         'RepDate', 'Loan Age', 'RepYear', 'RepMnth',\n",
    "                         'Zero Balance Effective Date',\n",
    "                         'Zero Balance Code']],\n",
    "                     how='left',\n",
    "                     left_on=['Loan Sequence Number'],\n",
    "                     right_on = ['Loan Sequence Number']                    \n",
    "                    )"
   ]
  },
  {
   "cell_type": "code",
   "execution_count": 320,
   "metadata": {},
   "outputs": [],
   "source": [
    "#merged_df.drop(columns=['Loan Sequence Number'], inplace=True)"
   ]
  },
  {
   "cell_type": "code",
   "execution_count": 276,
   "metadata": {},
   "outputs": [],
   "source": [
    "#merged_df.to_csv('../data/perf_2015q1_df.csv', index=False)"
   ]
  },
  {
   "cell_type": "code",
   "execution_count": 351,
   "metadata": {},
   "outputs": [],
   "source": [
    "prepaid_12months = merged_df.loc[(merged_df['RepYear']==2015) & (merged_df['Zero Balance Code']==1)].copy()"
   ]
  },
  {
   "cell_type": "code",
   "execution_count": 352,
   "metadata": {},
   "outputs": [],
   "source": [
    "merged_df['Zero Balance Code'].fillna(0, inplace=True)"
   ]
  },
  {
   "cell_type": "code",
   "execution_count": 353,
   "metadata": {},
   "outputs": [],
   "source": [
    "survived_12months = merged_df.loc[\n",
    "    (merged_df['RepYear']==2015) & (merged_df['Zero Balance Code']==0)].sample(len(prepaid_12months)).copy()"
   ]
  },
  {
   "cell_type": "code",
   "execution_count": 323,
   "metadata": {},
   "outputs": [],
   "source": [
    "# prepaid_12months.reset_index(inplace=True, drop=True)\n",
    "# survived_12months.reset_index(inplace=True, drop=True)"
   ]
  },
  {
   "cell_type": "code",
   "execution_count": 354,
   "metadata": {},
   "outputs": [],
   "source": [
    "estimation_2015q1 = pd.concat([prepaid_12months, survived_12months], ignore_index=True, axis=0)"
   ]
  },
  {
   "cell_type": "code",
   "execution_count": 355,
   "metadata": {},
   "outputs": [],
   "source": [
    "estimation_2015q1 = estimation_2015q1.sample(frac=1).reset_index(drop=True)"
   ]
  },
  {
   "cell_type": "code",
   "execution_count": 360,
   "metadata": {},
   "outputs": [],
   "source": [
    "#estimation_2015q1['EffDate'] = pd.to_datetime(df['Zero Balance Effective Date'], errors='raise', format='%Y%m')"
   ]
  },
  {
   "cell_type": "code",
   "execution_count": null,
   "metadata": {},
   "outputs": [],
   "source": []
  },
  {
   "cell_type": "code",
   "execution_count": 362,
   "metadata": {},
   "outputs": [
    {
     "data": {
      "text/plain": [
       "Zero Balance Effective Date\n",
       "201502.0     17\n",
       "201503.0     81\n",
       "201504.0    115\n",
       "201505.0    183\n",
       "201506.0    271\n",
       "201507.0    287\n",
       "201508.0    314\n",
       "201509.0    319\n",
       "201510.0    365\n",
       "201511.0    401\n",
       "201512.0    384\n",
       "Name: Loan Sequence Number, dtype: int64"
      ]
     },
     "execution_count": 362,
     "metadata": {},
     "output_type": "execute_result"
    }
   ],
   "source": [
    "estimation_2015q1.groupby('Zero Balance Effective Date')['Loan Sequence Number'].count()"
   ]
  },
  {
   "cell_type": "code",
   "execution_count": 367,
   "metadata": {},
   "outputs": [],
   "source": [
    "rate['RateDate'] = pd.to_datetime(rate['DATE'], errors='raise')"
   ]
  },
  {
   "cell_type": "code",
   "execution_count": 391,
   "metadata": {},
   "outputs": [],
   "source": [
    "selected_rates = rate.loc[(rate['RateDate']>'2015-02-01') & (rate['RateDate']<'2016-01-01')][\n",
    "    ['RateDate', 'MORTGAGE30US']]"
   ]
  },
  {
   "cell_type": "code",
   "execution_count": 449,
   "metadata": {},
   "outputs": [],
   "source": [
    "columns = list(selected_rates['RateDate'].astype(str).values)\n",
    "data = list(selected_rates['MORTGAGE30US'].values)"
   ]
  },
  {
   "cell_type": "code",
   "execution_count": 504,
   "metadata": {},
   "outputs": [],
   "source": [
    "import numpy as np\n",
    "arr = np.ones((len(estimation_2015q1), len(incv_df.columns)))\n",
    "arr_data = arr * np.asarray(data)\n",
    "incv_df = pd.DataFrame(arr_data)\n",
    "incv_df.columns=columns"
   ]
  },
  {
   "cell_type": "code",
   "execution_count": 514,
   "metadata": {},
   "outputs": [],
   "source": [
    "estimation_2015q1[incv_df.columns] = -incv_df.values"
   ]
  },
  {
   "cell_type": "code",
   "execution_count": 515,
   "metadata": {},
   "outputs": [],
   "source": [
    "for col in estimation_2015q1[incv_df.columns]:\n",
    "    estimation_2015q1[col] = estimation_2015q1[col]+estimation_2015q1['Original Interest Rate']"
   ]
  },
  {
   "cell_type": "code",
   "execution_count": 517,
   "metadata": {},
   "outputs": [
    {
     "data": {
      "text/plain": [
       "Index(['Credit Score', 'First Payment Date', 'First Time Homebuyer Flag',\n",
       "       'Mortgage Insurance Percentage (MI %)', 'Number of Units',\n",
       "       'Occupancy Status', 'Original Combined Loan-to-Value (CLTV)',\n",
       "       'Original Debt-to-Income (DTI) Ratio', 'Original UPB',\n",
       "       'Original Loan-to-Value (LTV)', 'Original Interest Rate', 'Channel',\n",
       "       'Amortization Type (Formerly Product Type)', 'Property State',\n",
       "       'Property Type', 'Loan Sequence Number', 'Loan Purpose',\n",
       "       'Original Loan Term', 'Number of Borrowers',\n",
       "       'Mortgage Insurance Cancellation Indicator', 'MatDate', 'OrgDate',\n",
       "       'OrgYear', 'OrgMnth', 'RepDate', 'Loan Age', 'RepYear', 'RepMnth',\n",
       "       'Zero Balance Effective Date', 'Zero Balance Code', 'EffDate',\n",
       "       '2015-02-05', '2015-02-12', '2015-02-19', '2015-02-26', '2015-03-05',\n",
       "       '2015-03-12', '2015-03-19', '2015-03-26', '2015-04-02', '2015-04-09',\n",
       "       '2015-04-16', '2015-04-23', '2015-04-30', '2015-05-07', '2015-05-14',\n",
       "       '2015-05-21', '2015-05-28', '2015-06-04', '2015-06-11', '2015-06-18',\n",
       "       '2015-06-25', '2015-07-02', '2015-07-09', '2015-07-16', '2015-07-23',\n",
       "       '2015-07-30', '2015-08-06', '2015-08-13', '2015-08-20', '2015-08-27',\n",
       "       '2015-09-03', '2015-09-10', '2015-09-17', '2015-09-24', '2015-10-01',\n",
       "       '2015-10-08', '2015-10-15', '2015-10-22', '2015-10-29', '2015-11-05',\n",
       "       '2015-11-12', '2015-11-19', '2015-11-25', '2015-12-03', '2015-12-10',\n",
       "       '2015-12-17', '2015-12-24', '2015-12-31'],\n",
       "      dtype='object')"
      ]
     },
     "execution_count": 517,
     "metadata": {},
     "output_type": "execute_result"
    }
   ],
   "source": [
    "estimation_2015q1.columns"
   ]
  },
  {
   "cell_type": "code",
   "execution_count": 518,
   "metadata": {},
   "outputs": [],
   "source": [
    "estimation_2015q1.to_csv('../data/estimation_2015q1.csv', index=False)"
   ]
  },
  {
   "cell_type": "markdown",
   "metadata": {},
   "source": [
    "### Predictors"
   ]
  },
  {
   "cell_type": "code",
   "execution_count": 528,
   "metadata": {},
   "outputs": [
    {
     "data": {
      "text/plain": [
       "array(['7', 'Y', 'N'], dtype=object)"
      ]
     },
     "execution_count": 528,
     "metadata": {},
     "output_type": "execute_result"
    }
   ],
   "source": [
    "estimation_2015q1['Mortgage Insurance Cancellation Indicator'].unique()"
   ]
  },
  {
   "cell_type": "code",
   "execution_count": 530,
   "metadata": {},
   "outputs": [],
   "source": [
    "data = estimation_2015q1[['Credit Score', # Continious\n",
    "                   'Original Debt-to-Income (DTI) Ratio',\n",
    "                   'Original Combined Loan-to-Value (CLTV)',\n",
    "                   'Original Loan-to-Value (LTV)', \n",
    "                   'Original Interest Rate',\n",
    "                   'Original UPB',\n",
    "                   'First Time Homebuyer Flag', # Descrete\n",
    "                   'Mortgage Insurance Percentage (MI %)', \n",
    "                   'Number of Units', 'Occupancy Status', \n",
    "                   'Channel','Property State',\n",
    "                   'Property Type', \n",
    "                   'Loan Purpose', \n",
    "                   'Number of Borrowers', \n",
    "                   'Mortgage Insurance Cancellation Indicator',\n",
    "                   '2015-02-05', '2015-02-12', '2015-02-19', '2015-02-26', '2015-03-05', # Time variant\n",
    "       '2015-03-12', '2015-03-19', '2015-03-26', '2015-04-02', '2015-04-09',\n",
    "       '2015-04-16', '2015-04-23', '2015-04-30', '2015-05-07', '2015-05-14',\n",
    "       '2015-05-21', '2015-05-28', '2015-06-04', '2015-06-11', '2015-06-18',\n",
    "       '2015-06-25', '2015-07-02', '2015-07-09', '2015-07-16', '2015-07-23',\n",
    "       '2015-07-30', '2015-08-06', '2015-08-13', '2015-08-20', '2015-08-27',\n",
    "       '2015-09-03', '2015-09-10', '2015-09-17', '2015-09-24', '2015-10-01',\n",
    "       '2015-10-08', '2015-10-15', '2015-10-22', '2015-10-29', '2015-11-05',\n",
    "       '2015-11-12', '2015-11-19', '2015-11-25', '2015-12-03', '2015-12-10',\n",
    "       '2015-12-17', '2015-12-24', '2015-12-31']]"
   ]
  },
  {
   "cell_type": "code",
   "execution_count": 531,
   "metadata": {},
   "outputs": [
    {
     "data": {
      "text/plain": [
       "Credit Score                              0\n",
       "Original Debt-to-Income (DTI) Ratio       0\n",
       "Original Combined Loan-to-Value (CLTV)    0\n",
       "Original Loan-to-Value (LTV)              0\n",
       "Original Interest Rate                    0\n",
       "                                         ..\n",
       "2015-12-03                                0\n",
       "2015-12-10                                0\n",
       "2015-12-17                                0\n",
       "2015-12-24                                0\n",
       "2015-12-31                                0\n",
       "Length: 64, dtype: int64"
      ]
     },
     "execution_count": 531,
     "metadata": {},
     "output_type": "execute_result"
    }
   ],
   "source": [
    "data.isna().sum()"
   ]
  },
  {
   "cell_type": "code",
   "execution_count": 532,
   "metadata": {},
   "outputs": [
    {
     "data": {
      "text/plain": [
       "Index(['Credit Score', 'Original Debt-to-Income (DTI) Ratio',\n",
       "       'Original Combined Loan-to-Value (CLTV)',\n",
       "       'Original Loan-to-Value (LTV)', 'Original Interest Rate',\n",
       "       'Original UPB', 'First Time Homebuyer Flag',\n",
       "       'Mortgage Insurance Percentage (MI %)', 'Number of Units',\n",
       "       'Occupancy Status', 'Channel', 'Property State', 'Property Type',\n",
       "       'Loan Purpose', 'Number of Borrowers',\n",
       "       'Mortgage Insurance Cancellation Indicator', '2015-02-05', '2015-02-12',\n",
       "       '2015-02-19', '2015-02-26', '2015-03-05', '2015-03-12', '2015-03-19',\n",
       "       '2015-03-26', '2015-04-02', '2015-04-09', '2015-04-16', '2015-04-23',\n",
       "       '2015-04-30', '2015-05-07', '2015-05-14', '2015-05-21', '2015-05-28',\n",
       "       '2015-06-04', '2015-06-11', '2015-06-18', '2015-06-25', '2015-07-02',\n",
       "       '2015-07-09', '2015-07-16', '2015-07-23', '2015-07-30', '2015-08-06',\n",
       "       '2015-08-13', '2015-08-20', '2015-08-27', '2015-09-03', '2015-09-10',\n",
       "       '2015-09-17', '2015-09-24', '2015-10-01', '2015-10-08', '2015-10-15',\n",
       "       '2015-10-22', '2015-10-29', '2015-11-05', '2015-11-12', '2015-11-19',\n",
       "       '2015-11-25', '2015-12-03', '2015-12-10', '2015-12-17', '2015-12-24',\n",
       "       '2015-12-31'],\n",
       "      dtype='object')"
      ]
     },
     "execution_count": 532,
     "metadata": {},
     "output_type": "execute_result"
    }
   ],
   "source": [
    "data.columns"
   ]
  },
  {
   "cell_type": "code",
   "execution_count": 535,
   "metadata": {},
   "outputs": [],
   "source": [
    "data = pd.get_dummies(data, columns=['First Time Homebuyer Flag',\n",
    "       'Mortgage Insurance Percentage (MI %)', 'Number of Units',\n",
    "       'Occupancy Status', 'Channel', 'Property State', 'Property Type',\n",
    "       'Loan Purpose', 'Number of Borrowers',\n",
    "       'Mortgage Insurance Cancellation Indicator'], drop_first=False)"
   ]
  },
  {
   "cell_type": "code",
   "execution_count": 536,
   "metadata": {},
   "outputs": [
    {
     "data": {
      "text/plain": [
       "Index(['Credit Score', 'Original Debt-to-Income (DTI) Ratio',\n",
       "       'Original Combined Loan-to-Value (CLTV)',\n",
       "       'Original Loan-to-Value (LTV)', 'Original Interest Rate',\n",
       "       'Original UPB', '2015-02-05', '2015-02-12', '2015-02-19', '2015-02-26',\n",
       "       ...\n",
       "       'Property Type_PU', 'Property Type_SF', 'Loan Purpose_C',\n",
       "       'Loan Purpose_N', 'Loan Purpose_P', 'Number of Borrowers_1',\n",
       "       'Number of Borrowers_2', 'Mortgage Insurance Cancellation Indicator_7',\n",
       "       'Mortgage Insurance Cancellation Indicator_N',\n",
       "       'Mortgage Insurance Cancellation Indicator_Y'],\n",
       "      dtype='object', length=139)"
      ]
     },
     "execution_count": 536,
     "metadata": {},
     "output_type": "execute_result"
    }
   ],
   "source": [
    "data.columns"
   ]
  },
  {
   "cell_type": "code",
   "execution_count": null,
   "metadata": {},
   "outputs": [],
   "source": [
    "# First do train test valid split and then transform...\n",
    "X_train\n",
    "\n",
    "# Pop y "
   ]
  },
  {
   "cell_type": "code",
   "execution_count": 537,
   "metadata": {},
   "outputs": [],
   "source": [
    "# demonstrate data standardization with sklearn\n",
    "from sklearn.preprocessing import StandardScaler\n",
    "# create scaler\n",
    "scaler = StandardScaler()\n",
    "# fit scaler on data\n",
    "scaler.fit(data)\n",
    "# apply transform\n",
    "standardized = scaler.transform(data)"
   ]
  },
  {
   "cell_type": "code",
   "execution_count": 538,
   "metadata": {},
   "outputs": [
    {
     "data": {
      "text/plain": [
       "array([[ 0.9495238 , -0.30620426,  0.24354526, ...,  0.57411579,\n",
       "        -0.52563122, -0.18011271],\n",
       "       [-0.10280603, -0.26002773,  1.1189776 , ..., -1.74180892,\n",
       "        -0.52563122,  5.55207902],\n",
       "       [-0.01690156, -0.26002773,  1.1189776 , ..., -1.74180892,\n",
       "         1.90247452, -0.18011271],\n",
       "       ...,\n",
       "       [-0.08132991, -0.28311599,  1.1189776 , ..., -1.74180892,\n",
       "         1.90247452, -0.18011271],\n",
       "       [ 0.58442978, -0.28696404, -1.33223296, ...,  0.57411579,\n",
       "        -0.52563122, -0.18011271],\n",
       "       [ 0.69181037, -0.37162102, -0.28171415, ...,  0.57411579,\n",
       "        -0.52563122, -0.18011271]])"
      ]
     },
     "execution_count": 538,
     "metadata": {},
     "output_type": "execute_result"
    }
   ],
   "source": [
    "standardized"
   ]
  },
  {
   "cell_type": "code",
   "execution_count": null,
   "metadata": {},
   "outputs": [],
   "source": []
  }
 ],
 "metadata": {
  "kernelspec": {
   "display_name": "Python 3",
   "language": "python",
   "name": "python3"
  },
  "language_info": {
   "codemirror_mode": {
    "name": "ipython",
    "version": 3
   },
   "file_extension": ".py",
   "mimetype": "text/x-python",
   "name": "python",
   "nbconvert_exporter": "python",
   "pygments_lexer": "ipython3",
   "version": "3.8.3"
  }
 },
 "nbformat": 4,
 "nbformat_minor": 4
}
